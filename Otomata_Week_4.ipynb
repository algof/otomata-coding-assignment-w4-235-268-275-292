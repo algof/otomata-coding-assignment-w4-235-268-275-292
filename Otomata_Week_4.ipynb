{
  "nbformat": 4,
  "nbformat_minor": 0,
  "metadata": {
    "colab": {
      "provenance": [],
      "include_colab_link": true
    },
    "kernelspec": {
      "name": "python3",
      "display_name": "Python 3"
    },
    "language_info": {
      "name": "python"
    }
  },
  "cells": [
    {
      "cell_type": "markdown",
      "metadata": {
        "id": "view-in-github",
        "colab_type": "text"
      },
      "source": [
        "<a href=\"https://colab.research.google.com/github/algof/otomata-coding-assignment-w4-235-268-275-292/blob/main/Otomata_Week_4.ipynb\" target=\"_parent\"><img src=\"https://colab.research.google.com/assets/colab-badge.svg\" alt=\"Open In Colab\"/></a>"
      ]
    },
    {
      "cell_type": "markdown",
      "source": [
        "# Tugas Minggu ke-4 Otomata\n",
        "| Name           | NRP        | Kelas     |\n",
        "| ---            | ---        | ----------|\n",
        "| Algof Kristian Zega | 5025231235 | Otomata (E) |\n",
        "| Gregorius Setiadharma | 5025231268 | Otomata (E) |\n",
        "| Muhammad Davin Aulia Risky | 5025231275 | Otomata (E) |\n",
        "| Muhammad Aditya Handrian | 5025231292 | Otomata (E) |"
      ],
      "metadata": {
        "id": "Z4dhJT8_b11D"
      }
    },
    {
      "cell_type": "markdown",
      "source": [
        "## Mounting Drive"
      ],
      "metadata": {
        "id": "zLSgac4afhQQ"
      }
    },
    {
      "cell_type": "markdown",
      "source": [
        "## Read File"
      ],
      "metadata": {
        "id": "TU8iVemogKo9"
      }
    },
    {
      "cell_type": "code",
      "source": [
        "# Membuka file untuk dibaca dan menyimpan isi ke dalam variabel\n",
        "with open('/sample_input_1.txt', 'r') as file:\n",
        "    isi_file = file.read()\n",
        "\n",
        "# Menampilkan isi file yang disimpan dalam variabel\n",
        "print(isi_file)"
      ],
      "metadata": {
        "colab": {
          "base_uri": "https://localhost:8080/"
        },
        "id": "HHVcpJCrgKUi",
        "outputId": "e2f297d3-8a82-4dab-b8fb-da1a67f3e56f"
      },
      "execution_count": null,
      "outputs": [
        {
          "output_type": "stream",
          "name": "stdout",
          "text": [
            "{\n",
            "    \"states\": [\"q0\", \"q1\", \"q2\", \"q3\"],\n",
            "    \"alphabet\": [\"a\", \"b\"],\n",
            "    \"start_state\": \"q0\",\n",
            "    \"accept_states\": [\"q2\", \"q3\"],\n",
            "    \"transitions\": {\n",
            "        \"q0\": { \"a\": \"q1\", \"b\": \"q3\" },\n",
            "        \"q1\": { \"a\": \"q1\", \"b\": \"q2\" },\n",
            "        \"q2\": { \"a\": \"q1\", \"b\": \"q3\" },\n",
            "        \"q3\": { \"a\": \"q2\", \"b\": \"q3\" }\n",
            "    },\n",
            "    \"test_string\": \"ab\"\n",
            "}\n"
          ]
        }
      ]
    },
    {
      "cell_type": "markdown",
      "source": [
        "## Import Library JSON\n",
        "**Membuat fungsi untuk membaca DFA pada JSON**"
      ],
      "metadata": {
        "id": "SoXTDUNCcMhj"
      }
    },
    {
      "cell_type": "code",
      "source": [
        "import json\n",
        "\n",
        "def run_dfa(dfa_data):\n",
        "    states = dfa_data[\"states\"]\n",
        "    alphabet = dfa_data[\"alphabet\"]\n",
        "    start_state = dfa_data[\"start_state\"]\n",
        "    accept_states = dfa_data[\"accept_states\"]\n",
        "    transitions = dfa_data[\"transitions\"]\n",
        "    test_string = dfa_data[\"test_string\"]\n",
        "\n",
        "    current_state = start_state\n",
        "    path = [current_state]\n",
        "\n",
        "    for symbol in test_string:\n",
        "        if symbol not in alphabet:\n",
        "            print(f\"Error: Symbol '{symbol}' not in DFA alphabet\")\n",
        "            return\n",
        "        current_state = transitions[current_state][symbol]\n",
        "        path.append(current_state)\n",
        "\n",
        "    status = \"ACCEPTED\" if current_state in accept_states else \"REJECTED\"\n",
        "    print(\"Path:\", \" → \".join(path))\n",
        "    print(\"Status:\", status)\n",
        "\n",
        "# Example DFA data (based on the image input format)\n",
        "# Sample input 1\n",
        "dfa_json = '''\n",
        "{\n",
        "    \"states\": [\"q0\", \"q1\", \"q2\", \"q3\"],\n",
        "    \"alphabet\": [\"a\", \"b\"],\n",
        "    \"start_state\": \"q0\",\n",
        "    \"accept_states\": [\"q2\", \"q3\"],\n",
        "    \"transitions\": {\n",
        "        \"q0\": { \"a\": \"q1\", \"b\": \"q3\" },\n",
        "        \"q1\": { \"a\": \"q1\", \"b\": \"q2\" },\n",
        "        \"q2\": { \"a\": \"q1\", \"b\": \"q3\" },\n",
        "        \"q3\": { \"a\": \"q2\", \"b\": \"q3\" }\n",
        "    },\n",
        "    \"test_string\": \"aa\"\n",
        "}\n",
        "'''\n",
        "\n",
        "# Mencari jawaban sample input 1\n",
        "dfa_data = json.loads(dfa_json)\n",
        "run_dfa(dfa_data)\n",
        "print(\"\\n\")\n",
        "\n",
        "# Sample input 2\n",
        "# dfa_json = '''\n",
        "# {\n",
        "#     \"states\": [\"q0\", \"q1\", \"q2\", \"q3\"],\n",
        "#     \"alphabet\": [\"a\", \"b\"],\n",
        "#     \"start_state\": \"q0\",\n",
        "#     \"accept_states\": [\"q2\", \"q3\"],\n",
        "#     \"transitions\": {\n",
        "#         \"q0\": { \"a\": \"q1\", \"b\": \"q3\" },\n",
        "#         \"q1\": { \"a\": \"q1\", \"b\": \"q2\" },\n",
        "#         \"q2\": { \"a\": \"q1\", \"b\": \"q3\" },\n",
        "#         \"q3\": { \"a\": \"q2\", \"b\": \"q3\" }\n",
        "#     },\n",
        "#     \"test_string\": \"ab\"\n",
        "# }\n",
        "# '''\n",
        "\n",
        "dfa_data = json.loads(isi_file)\n",
        "run_dfa(dfa_data)"
      ],
      "metadata": {
        "colab": {
          "base_uri": "https://localhost:8080/"
        },
        "id": "3M05EW9HfiA6",
        "outputId": "59f0b31b-76e7-42b5-94cf-c8fc4db6959b"
      },
      "execution_count": null,
      "outputs": [
        {
          "output_type": "stream",
          "name": "stdout",
          "text": [
            "Path: q0 → q1 → q1\n",
            "Status: REJECTED\n",
            "\n",
            "\n",
            "Path: q0 → q1 → q2\n",
            "Status: ACCEPTED\n"
          ]
        }
      ]
    },
    {
      "cell_type": "markdown",
      "source": [
        "### Install library automata-lib"
      ],
      "metadata": {
        "id": "76ejf_J5_smt"
      }
    },
    {
      "cell_type": "code",
      "source": [
        "!pip install automata-lib"
      ],
      "metadata": {
        "colab": {
          "base_uri": "https://localhost:8080/"
        },
        "id": "wRlLF2WC-JmV",
        "outputId": "ba8c5be9-d65d-4ce2-874c-34f0715a7176"
      },
      "execution_count": null,
      "outputs": [
        {
          "output_type": "stream",
          "name": "stdout",
          "text": [
            "Collecting automata-lib\n",
            "  Downloading automata_lib-9.0.0-py3-none-any.whl.metadata (6.0 kB)\n",
            "Requirement already satisfied: networkx>=2.6.2 in /usr/local/lib/python3.11/dist-packages (from automata-lib) (3.4.2)\n",
            "Requirement already satisfied: frozendict>=2.3.4 in /usr/local/lib/python3.11/dist-packages (from automata-lib) (2.4.6)\n",
            "Requirement already satisfied: typing-extensions>=4.5.0 in /usr/local/lib/python3.11/dist-packages (from automata-lib) (4.12.2)\n",
            "Collecting cached_method>=0.1.0 (from automata-lib)\n",
            "  Downloading cached_method-0.1.0-py3-none-any.whl.metadata (2.9 kB)\n",
            "Downloading automata_lib-9.0.0-py3-none-any.whl (125 kB)\n",
            "\u001b[2K   \u001b[90m━━━━━━━━━━━━━━━━━━━━━━━━━━━━━━━━━━━━━━━━\u001b[0m \u001b[32m125.1/125.1 kB\u001b[0m \u001b[31m6.0 MB/s\u001b[0m eta \u001b[36m0:00:00\u001b[0m\n",
            "\u001b[?25hDownloading cached_method-0.1.0-py3-none-any.whl (4.2 kB)\n",
            "Installing collected packages: cached_method, automata-lib\n",
            "Successfully installed automata-lib-9.0.0 cached_method-0.1.0\n"
          ]
        }
      ]
    },
    {
      "cell_type": "markdown",
      "source": [
        "## Import langsung library DFA dan JSON"
      ],
      "metadata": {
        "id": "EQqmLGmm_mVG"
      }
    },
    {
      "cell_type": "code",
      "source": [
        "from automata.fa.dfa import DFA\n",
        "import json\n",
        "\n",
        "json_string = '''\n",
        "{\n",
        "    \"states\": [\"q0\", \"q1\", \"q2\", \"q3\"],\n",
        "    \"alphabet\": [\"a\", \"b\"],\n",
        "    \"start_state\": \"q0\",\n",
        "    \"accept_states\": [\"q2\", \"q3\"],\n",
        "    \"transitions\": {\n",
        "        \"q0\": { \"a\": \"q1\", \"b\": \"q3\" },\n",
        "        \"q1\": { \"a\": \"q1\", \"b\": \"q2\" },\n",
        "        \"q2\": { \"a\": \"q1\", \"b\": \"q3\" },\n",
        "        \"q3\": { \"a\": \"q2\", \"b\": \"q3\" }\n",
        "    },\n",
        "    \"test_string\": \"ab\"\n",
        "}\n",
        "'''\n",
        "\n",
        "data = json.loads(json_string)\n",
        "\n",
        "dfa = DFA(\n",
        "    states=set(data[\"states\"]),\n",
        "    input_symbols=set(data[\"alphabet\"]),\n",
        "    transitions=data[\"transitions\"],\n",
        "    initial_state=data['start_state'],\n",
        "    final_states=set(data[\"accept_states\"])\n",
        ")\n",
        "\n",
        "print(dfa.accepts_input(data['test_string']))  # True\n",
        "print(dfa.accepts_input('aa'))  # False\n"
      ],
      "metadata": {
        "colab": {
          "base_uri": "https://localhost:8080/"
        },
        "id": "cigdNh3r-IcW",
        "outputId": "b2ef76a8-6b4b-446f-902e-c267bd9c8c9b"
      },
      "execution_count": null,
      "outputs": [
        {
          "output_type": "stream",
          "name": "stdout",
          "text": [
            "True\n",
            "False\n"
          ]
        }
      ]
    }
  ]
}