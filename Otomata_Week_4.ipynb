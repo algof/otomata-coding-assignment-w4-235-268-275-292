{
  "nbformat": 4,
  "nbformat_minor": 0,
  "metadata": {
    "colab": {
      "provenance": [],
      "toc_visible": true
    },
    "kernelspec": {
      "name": "python3",
      "display_name": "Python 3"
    },
    "language_info": {
      "name": "python"
    }
  },
  "cells": [
    {
      "cell_type": "markdown",
      "source": [
        "# Tugas Minggu ke-4 Otomata\n",
        "| Name           | NRP        | Kelas     |\n",
        "| ---            | ---        | ----------|\n",
        "| Algof Kristian Zega | 5025231235 | Otomata (E) |\n",
        "| Gregorius Setiadharma | 5025231268 | Otomata (E) |\n",
        "| Muhammad Davin Aulia Risky | 5025231275 | Otomata (E) |\n",
        "| Muhammad Aditya Handrian | 5025231292 | Otomata (E) |"
      ],
      "metadata": {
        "id": "Z4dhJT8_b11D"
      }
    },
    {
      "cell_type": "markdown",
      "source": [
        "## Simulator Deterministic Finite Automaton dengan input JSON\n",
        "Untuk membuat simualtor DFA,dapat dilakukan dengan memanfaatkan library JSON untuk mengelola input. Kemudian kita dapat membuat fungsi untuk mensimulasikan DFA pada JSON."
      ],
      "metadata": {
        "id": "SoXTDUNCcMhj"
      }
    },
    {
      "cell_type": "code",
      "source": [
        "import json\n",
        "\n",
        "def run_dfa(dfa_data):\n",
        "    states = dfa_data[\"states\"]\n",
        "    alphabet = dfa_data[\"alphabet\"]\n",
        "    start_state = dfa_data[\"start_state\"]\n",
        "    accept_states = dfa_data[\"accept_states\"]\n",
        "    transitions = dfa_data[\"transitions\"]\n",
        "    test_string = dfa_data[\"test_string\"]\n",
        "\n",
        "    current_state = start_state\n",
        "    path = [current_state]\n",
        "\n",
        "    for symbol in test_string:\n",
        "        if symbol not in alphabet:\n",
        "            print(f\"Error: Symbol '{symbol}' not in DFA alphabet\")\n",
        "            return\n",
        "        current_state = transitions[current_state][symbol]\n",
        "        path.append(current_state)\n",
        "\n",
        "    status = \"ACCEPTED\" if current_state in accept_states else \"REJECTED\"\n",
        "    print(\"Path:\", \" → \".join(path))\n",
        "    print(\"Status:\", status)\n",
        "\n",
        "# Example DFA data (based on the image input format)\n",
        "# Sample input 1\n",
        "dfa_json = '''\n",
        "{\n",
        "    \"states\": [\"q0\", \"q1\", \"q2\", \"q3\"],\n",
        "    \"alphabet\": [\"a\", \"b\"],\n",
        "    \"start_state\": \"q0\",\n",
        "    \"accept_states\": [\"q2\", \"q3\"],\n",
        "    \"transitions\": {\n",
        "        \"q0\": { \"a\": \"q1\", \"b\": \"q3\" },\n",
        "        \"q1\": { \"a\": \"q1\", \"b\": \"q2\" },\n",
        "        \"q2\": { \"a\": \"q1\", \"b\": \"q3\" },\n",
        "        \"q3\": { \"a\": \"q2\", \"b\": \"q3\" }\n",
        "    },\n",
        "    \"test_string\": \"aa\"\n",
        "}\n",
        "'''\n",
        "\n",
        "# Mencari jawaban sample input 1\n",
        "dfa_data = json.loads(dfa_json)\n",
        "print(f\"Sample input 1: {dfa_data['test_string']}\")\n",
        "run_dfa(dfa_data)\n",
        "print(\"\\n\")\n",
        "\n",
        "# Sample input 2\n",
        "dfa_json = '''\n",
        "{\n",
        "    \"states\": [\"q0\", \"q1\", \"q2\", \"q3\"],\n",
        "    \"alphabet\": [\"a\", \"b\"],\n",
        "    \"start_state\": \"q0\",\n",
        "    \"accept_states\": [\"q2\", \"q3\"],\n",
        "    \"transitions\": {\n",
        "        \"q0\": { \"a\": \"q1\", \"b\": \"q3\" },\n",
        "        \"q1\": { \"a\": \"q1\", \"b\": \"q2\" },\n",
        "        \"q2\": { \"a\": \"q1\", \"b\": \"q3\" },\n",
        "        \"q3\": { \"a\": \"q2\", \"b\": \"q3\" }\n",
        "    },\n",
        "    \"test_string\": \"ab\"\n",
        "}\n",
        "'''\n",
        "\n",
        "# Mencari jawaban sample input 2\n",
        "dfa_data = json.loads(dfa_json)\n",
        "print(f\"Sample input 2: {dfa_data['test_string']}\")\n",
        "run_dfa(dfa_data)"
      ],
      "metadata": {
        "colab": {
          "base_uri": "https://localhost:8080/"
        },
        "id": "3M05EW9HfiA6",
        "outputId": "fc261e62-a3f0-4c92-fccd-0ac1dcfc096d"
      },
      "execution_count": null,
      "outputs": [
        {
          "output_type": "stream",
          "name": "stdout",
          "text": [
            "Sample input 1: aa\n",
            "Path: q0 → q1 → q1\n",
            "Status: REJECTED\n",
            "\n",
            "\n",
            "Sample input 2: ab\n",
            "Path: q0 → q1 → q2\n",
            "Status: ACCEPTED\n"
          ]
        }
      ]
    },
    {
      "cell_type": "markdown",
      "source": [
        "## Modifikasi kode untuk format input dengan menggunakan file JSON\n"
      ],
      "metadata": {
        "id": "c5T3B-aokaXV"
      }
    },
    {
      "cell_type": "code",
      "source": [
        "import json\n",
        "\n",
        "def run_dfa(dfa_data):\n",
        "    states = dfa_data[\"states\"]\n",
        "    alphabet = dfa_data[\"alphabet\"]\n",
        "    start_state = dfa_data[\"start_state\"]\n",
        "    accept_states = dfa_data[\"accept_states\"]\n",
        "    transitions = dfa_data[\"transitions\"]\n",
        "    test_string = dfa_data[\"test_string\"]\n",
        "\n",
        "    current_state = start_state\n",
        "    path = [current_state]\n",
        "\n",
        "    for symbol in test_string:\n",
        "        if symbol not in alphabet:\n",
        "            print(f\"Error: Symbol '{symbol}' not in DFA alphabet\")\n",
        "            return\n",
        "        current_state = transitions[current_state][symbol]\n",
        "        path.append(current_state)\n",
        "\n",
        "    status = \"ACCEPTED\" if current_state in accept_states else \"REJECTED\"\n",
        "    print(\"Path:\", \" → \".join(path))\n",
        "    print(\"Status:\", status)\n",
        "\n",
        "file_path = \"dfa_test.json\"\n",
        "\n",
        "try:\n",
        "    with open(file_path, \"r\") as file:\n",
        "        dfa_data = json.load(file)  # Mencoba membaca JSON\n",
        "        run_dfa(dfa_data)\n",
        "except FileNotFoundError:\n",
        "    print(f\"Error: File '{file_path}' tidak ditemukan.\")\n",
        "except json.JSONDecodeError as e:\n",
        "    print(\"Error: Format JSON tidak valid.\")"
      ],
      "metadata": {
        "id": "tcM12Tx-kaOd"
      },
      "execution_count": null,
      "outputs": []
    },
    {
      "cell_type": "markdown",
      "source": [
        "## Simulator DFA dengan melakukan import langsung library DFA dan JSON\n",
        "\n",
        "Cara lain untuk mensimulasikan DFA adalah dengan menggunakan library DFA bawaan pada python. Namun kekurnagannya, secara defaut cara ini hanya dapat menghasilkan status penerimaan dari test string, tidak dengan path nya."
      ],
      "metadata": {
        "id": "EQqmLGmm_mVG"
      }
    },
    {
      "cell_type": "markdown",
      "source": [
        "#### Install library automata-lib"
      ],
      "metadata": {
        "id": "76ejf_J5_smt"
      }
    },
    {
      "cell_type": "code",
      "source": [
        "!pip install automata-lib"
      ],
      "metadata": {
        "colab": {
          "base_uri": "https://localhost:8080/"
        },
        "id": "wRlLF2WC-JmV",
        "outputId": "4919d9a7-fbad-4710-dc28-d2f61da0fffb"
      },
      "execution_count": null,
      "outputs": [
        {
          "output_type": "stream",
          "name": "stdout",
          "text": [
            "Collecting automata-lib\n",
            "  Downloading automata_lib-9.0.0-py3-none-any.whl.metadata (6.0 kB)\n",
            "Requirement already satisfied: networkx>=2.6.2 in /usr/local/lib/python3.11/dist-packages (from automata-lib) (3.4.2)\n",
            "Requirement already satisfied: frozendict>=2.3.4 in /usr/local/lib/python3.11/dist-packages (from automata-lib) (2.4.6)\n",
            "Requirement already satisfied: typing-extensions>=4.5.0 in /usr/local/lib/python3.11/dist-packages (from automata-lib) (4.12.2)\n",
            "Collecting cached_method>=0.1.0 (from automata-lib)\n",
            "  Downloading cached_method-0.1.0-py3-none-any.whl.metadata (2.9 kB)\n",
            "Downloading automata_lib-9.0.0-py3-none-any.whl (125 kB)\n",
            "\u001b[2K   \u001b[90m━━━━━━━━━━━━━━━━━━━━━━━━━━━━━━━━━━━━━━━━\u001b[0m \u001b[32m125.1/125.1 kB\u001b[0m \u001b[31m4.6 MB/s\u001b[0m eta \u001b[36m0:00:00\u001b[0m\n",
            "\u001b[?25hDownloading cached_method-0.1.0-py3-none-any.whl (4.2 kB)\n",
            "Installing collected packages: cached_method, automata-lib\n",
            "Successfully installed automata-lib-9.0.0 cached_method-0.1.0\n"
          ]
        }
      ]
    },
    {
      "cell_type": "markdown",
      "source": [
        "#### Kode simulator DFA"
      ],
      "metadata": {
        "id": "guMdF1Svnq1D"
      }
    },
    {
      "cell_type": "code",
      "source": [
        "from automata.fa.dfa import DFA\n",
        "import json\n",
        "\n",
        "json_string = '''\n",
        "{\n",
        "    \"states\": [\"q0\", \"q1\", \"q2\", \"q3\"],\n",
        "    \"alphabet\": [\"a\", \"b\"],\n",
        "    \"start_state\": \"q0\",\n",
        "    \"accept_states\": [\"q2\", \"q3\"],\n",
        "    \"transitions\": {\n",
        "        \"q0\": { \"a\": \"q1\", \"b\": \"q3\" },\n",
        "        \"q1\": { \"a\": \"q1\", \"b\": \"q2\" },\n",
        "        \"q2\": { \"a\": \"q1\", \"b\": \"q3\" },\n",
        "        \"q3\": { \"a\": \"q2\", \"b\": \"q3\" }\n",
        "    },\n",
        "    \"test_string\": \"ab\"\n",
        "}\n",
        "'''\n",
        "\n",
        "data = json.loads(json_string)\n",
        "\n",
        "dfa = DFA(\n",
        "    states=set(data[\"states\"]),\n",
        "    input_symbols=set(data[\"alphabet\"]),\n",
        "    transitions=data[\"transitions\"],\n",
        "    initial_state=data['start_state'],\n",
        "    final_states=set(data[\"accept_states\"])\n",
        ")\n",
        "\n",
        "print(dfa.accepts_input(data['test_string']))  # True\n",
        "print(dfa.accepts_input('aa'))  # False\n"
      ],
      "metadata": {
        "colab": {
          "base_uri": "https://localhost:8080/"
        },
        "id": "cigdNh3r-IcW",
        "outputId": "8ff16f5c-d0a7-40b2-9a35-f1fc62a4ad03"
      },
      "execution_count": null,
      "outputs": [
        {
          "output_type": "stream",
          "name": "stdout",
          "text": [
            "True\n",
            "False\n"
          ]
        }
      ]
    }
  ]
}